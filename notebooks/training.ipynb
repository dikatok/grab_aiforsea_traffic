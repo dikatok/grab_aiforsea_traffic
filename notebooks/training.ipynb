{
 "cells": [
  {
   "cell_type": "code",
   "execution_count": 1,
   "metadata": {},
   "outputs": [],
   "source": [
    "import sys\n",
    "sys.path.append('..')\n",
    "\n",
    "import tensorflow as tf\n",
    "import pandas as pd\n",
    "import numpy as np\n",
    "import matplotlib.pyplot as plt\n",
    "\n",
    "from geohash2 import decode_exactly\n",
    "from src.data.prepare import prepare_data\n",
    "from src.features.create_features import create_features\n",
    "from src.models.loss import calc_rmse\n",
    "\n",
    "pd.options.mode.chained_assignment = None\n",
    "\n",
    "from src.models.model import Model\n",
    "from src.data.dataset import create_dataset"
   ]
  },
  {
   "cell_type": "code",
   "execution_count": 2,
   "metadata": {},
   "outputs": [],
   "source": [
    "tf.keras.backend.clear_session()"
   ]
  },
  {
   "cell_type": "code",
   "execution_count": 3,
   "metadata": {},
   "outputs": [],
   "source": [
    "np.random.seed(42)"
   ]
  },
  {
   "cell_type": "markdown",
   "metadata": {},
   "source": [
    "# 1. Data"
   ]
  },
  {
   "cell_type": "code",
   "execution_count": 36,
   "metadata": {},
   "outputs": [],
   "source": [
    "df = pd.read_csv(\"../data/training.csv\")"
   ]
  },
  {
   "cell_type": "code",
   "execution_count": 5,
   "metadata": {},
   "outputs": [
    {
     "data": {
      "text/html": [
       "<div>\n",
       "<style scoped>\n",
       "    .dataframe tbody tr th:only-of-type {\n",
       "        vertical-align: middle;\n",
       "    }\n",
       "\n",
       "    .dataframe tbody tr th {\n",
       "        vertical-align: top;\n",
       "    }\n",
       "\n",
       "    .dataframe thead th {\n",
       "        text-align: right;\n",
       "    }\n",
       "</style>\n",
       "<table border=\"1\" class=\"dataframe\">\n",
       "  <thead>\n",
       "    <tr style=\"text-align: right;\">\n",
       "      <th></th>\n",
       "      <th>geohash6</th>\n",
       "      <th>day</th>\n",
       "      <th>timestamp</th>\n",
       "      <th>demand</th>\n",
       "    </tr>\n",
       "  </thead>\n",
       "  <tbody>\n",
       "    <tr>\n",
       "      <th>0</th>\n",
       "      <td>qp03wc</td>\n",
       "      <td>18</td>\n",
       "      <td>20:0</td>\n",
       "      <td>0.020072</td>\n",
       "    </tr>\n",
       "    <tr>\n",
       "      <th>1</th>\n",
       "      <td>qp03pn</td>\n",
       "      <td>10</td>\n",
       "      <td>14:30</td>\n",
       "      <td>0.024721</td>\n",
       "    </tr>\n",
       "    <tr>\n",
       "      <th>2</th>\n",
       "      <td>qp09sw</td>\n",
       "      <td>9</td>\n",
       "      <td>6:15</td>\n",
       "      <td>0.102821</td>\n",
       "    </tr>\n",
       "    <tr>\n",
       "      <th>3</th>\n",
       "      <td>qp0991</td>\n",
       "      <td>32</td>\n",
       "      <td>5:0</td>\n",
       "      <td>0.088755</td>\n",
       "    </tr>\n",
       "    <tr>\n",
       "      <th>4</th>\n",
       "      <td>qp090q</td>\n",
       "      <td>15</td>\n",
       "      <td>4:0</td>\n",
       "      <td>0.074468</td>\n",
       "    </tr>\n",
       "  </tbody>\n",
       "</table>\n",
       "</div>"
      ],
      "text/plain": [
       "  geohash6  day timestamp    demand\n",
       "0   qp03wc   18      20:0  0.020072\n",
       "1   qp03pn   10     14:30  0.024721\n",
       "2   qp09sw    9      6:15  0.102821\n",
       "3   qp0991   32       5:0  0.088755\n",
       "4   qp090q   15       4:0  0.074468"
      ]
     },
     "execution_count": 5,
     "metadata": {},
     "output_type": "execute_result"
    }
   ],
   "source": [
    "df.head()"
   ]
  },
  {
   "cell_type": "code",
   "execution_count": 37,
   "metadata": {},
   "outputs": [],
   "source": [
    "df = prepare_data(df, impute=True)"
   ]
  },
  {
   "cell_type": "code",
   "execution_count": 7,
   "metadata": {},
   "outputs": [
    {
     "data": {
      "text/html": [
       "<div>\n",
       "<style scoped>\n",
       "    .dataframe tbody tr th:only-of-type {\n",
       "        vertical-align: middle;\n",
       "    }\n",
       "\n",
       "    .dataframe tbody tr th {\n",
       "        vertical-align: top;\n",
       "    }\n",
       "\n",
       "    .dataframe thead th {\n",
       "        text-align: right;\n",
       "    }\n",
       "</style>\n",
       "<table border=\"1\" class=\"dataframe\">\n",
       "  <thead>\n",
       "    <tr style=\"text-align: right;\">\n",
       "      <th></th>\n",
       "      <th>geohash6</th>\n",
       "      <th>lat</th>\n",
       "      <th>long</th>\n",
       "      <th>day</th>\n",
       "      <th>hour</th>\n",
       "      <th>minute</th>\n",
       "      <th>demand</th>\n",
       "    </tr>\n",
       "  </thead>\n",
       "  <tbody>\n",
       "    <tr>\n",
       "      <th>0</th>\n",
       "      <td>qp03wc</td>\n",
       "      <td>-5.353088</td>\n",
       "      <td>90.653687</td>\n",
       "      <td>1</td>\n",
       "      <td>0</td>\n",
       "      <td>0</td>\n",
       "      <td>0.054858</td>\n",
       "    </tr>\n",
       "    <tr>\n",
       "      <th>1</th>\n",
       "      <td>qp03wc</td>\n",
       "      <td>-5.353088</td>\n",
       "      <td>90.653687</td>\n",
       "      <td>1</td>\n",
       "      <td>0</td>\n",
       "      <td>15</td>\n",
       "      <td>0.086209</td>\n",
       "    </tr>\n",
       "    <tr>\n",
       "      <th>2</th>\n",
       "      <td>qp03wc</td>\n",
       "      <td>-5.353088</td>\n",
       "      <td>90.653687</td>\n",
       "      <td>1</td>\n",
       "      <td>0</td>\n",
       "      <td>30</td>\n",
       "      <td>0.050739</td>\n",
       "    </tr>\n",
       "    <tr>\n",
       "      <th>3</th>\n",
       "      <td>qp03wc</td>\n",
       "      <td>-5.353088</td>\n",
       "      <td>90.653687</td>\n",
       "      <td>1</td>\n",
       "      <td>0</td>\n",
       "      <td>45</td>\n",
       "      <td>0.075174</td>\n",
       "    </tr>\n",
       "    <tr>\n",
       "      <th>4</th>\n",
       "      <td>qp03wc</td>\n",
       "      <td>-5.353088</td>\n",
       "      <td>90.653687</td>\n",
       "      <td>1</td>\n",
       "      <td>1</td>\n",
       "      <td>0</td>\n",
       "      <td>0.062867</td>\n",
       "    </tr>\n",
       "  </tbody>\n",
       "</table>\n",
       "</div>"
      ],
      "text/plain": [
       "  geohash6       lat       long  day  hour  minute    demand\n",
       "0   qp03wc -5.353088  90.653687    1     0       0  0.054858\n",
       "1   qp03wc -5.353088  90.653687    1     0      15  0.086209\n",
       "2   qp03wc -5.353088  90.653687    1     0      30  0.050739\n",
       "3   qp03wc -5.353088  90.653687    1     0      45  0.075174\n",
       "4   qp03wc -5.353088  90.653687    1     1       0  0.062867"
      ]
     },
     "execution_count": 7,
     "metadata": {},
     "output_type": "execute_result"
    }
   ],
   "source": [
    "df.head()"
   ]
  },
  {
   "cell_type": "markdown",
   "metadata": {},
   "source": [
    "# 2. Features Engineering"
   ]
  },
  {
   "cell_type": "code",
   "execution_count": 38,
   "metadata": {},
   "outputs": [],
   "source": [
    "df = create_features(df)"
   ]
  },
  {
   "cell_type": "markdown",
   "metadata": {},
   "source": [
    "I am adding 2 additional features, which are recurring day (eg. day 15 is basically day 1 just 2 weeks apart) and time binnings (morning, afternoon, evening, night)"
   ]
  },
  {
   "cell_type": "code",
   "execution_count": 9,
   "metadata": {},
   "outputs": [
    {
     "data": {
      "text/html": [
       "<div>\n",
       "<style scoped>\n",
       "    .dataframe tbody tr th:only-of-type {\n",
       "        vertical-align: middle;\n",
       "    }\n",
       "\n",
       "    .dataframe tbody tr th {\n",
       "        vertical-align: top;\n",
       "    }\n",
       "\n",
       "    .dataframe thead th {\n",
       "        text-align: right;\n",
       "    }\n",
       "</style>\n",
       "<table border=\"1\" class=\"dataframe\">\n",
       "  <thead>\n",
       "    <tr style=\"text-align: right;\">\n",
       "      <th></th>\n",
       "      <th>geohash6</th>\n",
       "      <th>lat</th>\n",
       "      <th>long</th>\n",
       "      <th>day</th>\n",
       "      <th>hour</th>\n",
       "      <th>minute</th>\n",
       "      <th>demand</th>\n",
       "      <th>recur_day</th>\n",
       "      <th>time_bin</th>\n",
       "      <th>recur_day_1</th>\n",
       "      <th>recur_day_2</th>\n",
       "      <th>recur_day_3</th>\n",
       "      <th>recur_day_4</th>\n",
       "      <th>recur_day_5</th>\n",
       "      <th>recur_day_6</th>\n",
       "      <th>recur_day_7</th>\n",
       "      <th>time_bin_morning</th>\n",
       "      <th>time_bin_afternoon</th>\n",
       "      <th>time_bin_evening</th>\n",
       "      <th>time_bin_night</th>\n",
       "    </tr>\n",
       "  </thead>\n",
       "  <tbody>\n",
       "    <tr>\n",
       "      <th>0</th>\n",
       "      <td>qp03wc</td>\n",
       "      <td>-5.353088</td>\n",
       "      <td>90.653687</td>\n",
       "      <td>1</td>\n",
       "      <td>0</td>\n",
       "      <td>0</td>\n",
       "      <td>0.054858</td>\n",
       "      <td>1</td>\n",
       "      <td>night</td>\n",
       "      <td>1</td>\n",
       "      <td>0</td>\n",
       "      <td>0</td>\n",
       "      <td>0</td>\n",
       "      <td>0</td>\n",
       "      <td>0</td>\n",
       "      <td>0</td>\n",
       "      <td>0</td>\n",
       "      <td>0</td>\n",
       "      <td>0</td>\n",
       "      <td>1</td>\n",
       "    </tr>\n",
       "    <tr>\n",
       "      <th>1</th>\n",
       "      <td>qp03wc</td>\n",
       "      <td>-5.353088</td>\n",
       "      <td>90.653687</td>\n",
       "      <td>1</td>\n",
       "      <td>0</td>\n",
       "      <td>15</td>\n",
       "      <td>0.086209</td>\n",
       "      <td>1</td>\n",
       "      <td>night</td>\n",
       "      <td>1</td>\n",
       "      <td>0</td>\n",
       "      <td>0</td>\n",
       "      <td>0</td>\n",
       "      <td>0</td>\n",
       "      <td>0</td>\n",
       "      <td>0</td>\n",
       "      <td>0</td>\n",
       "      <td>0</td>\n",
       "      <td>0</td>\n",
       "      <td>1</td>\n",
       "    </tr>\n",
       "    <tr>\n",
       "      <th>2</th>\n",
       "      <td>qp03wc</td>\n",
       "      <td>-5.353088</td>\n",
       "      <td>90.653687</td>\n",
       "      <td>1</td>\n",
       "      <td>0</td>\n",
       "      <td>30</td>\n",
       "      <td>0.050739</td>\n",
       "      <td>1</td>\n",
       "      <td>night</td>\n",
       "      <td>1</td>\n",
       "      <td>0</td>\n",
       "      <td>0</td>\n",
       "      <td>0</td>\n",
       "      <td>0</td>\n",
       "      <td>0</td>\n",
       "      <td>0</td>\n",
       "      <td>0</td>\n",
       "      <td>0</td>\n",
       "      <td>0</td>\n",
       "      <td>1</td>\n",
       "    </tr>\n",
       "    <tr>\n",
       "      <th>3</th>\n",
       "      <td>qp03wc</td>\n",
       "      <td>-5.353088</td>\n",
       "      <td>90.653687</td>\n",
       "      <td>1</td>\n",
       "      <td>0</td>\n",
       "      <td>45</td>\n",
       "      <td>0.075174</td>\n",
       "      <td>1</td>\n",
       "      <td>night</td>\n",
       "      <td>1</td>\n",
       "      <td>0</td>\n",
       "      <td>0</td>\n",
       "      <td>0</td>\n",
       "      <td>0</td>\n",
       "      <td>0</td>\n",
       "      <td>0</td>\n",
       "      <td>0</td>\n",
       "      <td>0</td>\n",
       "      <td>0</td>\n",
       "      <td>1</td>\n",
       "    </tr>\n",
       "    <tr>\n",
       "      <th>4</th>\n",
       "      <td>qp03wc</td>\n",
       "      <td>-5.353088</td>\n",
       "      <td>90.653687</td>\n",
       "      <td>1</td>\n",
       "      <td>1</td>\n",
       "      <td>0</td>\n",
       "      <td>0.062867</td>\n",
       "      <td>1</td>\n",
       "      <td>night</td>\n",
       "      <td>1</td>\n",
       "      <td>0</td>\n",
       "      <td>0</td>\n",
       "      <td>0</td>\n",
       "      <td>0</td>\n",
       "      <td>0</td>\n",
       "      <td>0</td>\n",
       "      <td>0</td>\n",
       "      <td>0</td>\n",
       "      <td>0</td>\n",
       "      <td>1</td>\n",
       "    </tr>\n",
       "  </tbody>\n",
       "</table>\n",
       "</div>"
      ],
      "text/plain": [
       "  geohash6       lat       long  day  hour  minute    demand  recur_day  \\\n",
       "0   qp03wc -5.353088  90.653687    1     0       0  0.054858          1   \n",
       "1   qp03wc -5.353088  90.653687    1     0      15  0.086209          1   \n",
       "2   qp03wc -5.353088  90.653687    1     0      30  0.050739          1   \n",
       "3   qp03wc -5.353088  90.653687    1     0      45  0.075174          1   \n",
       "4   qp03wc -5.353088  90.653687    1     1       0  0.062867          1   \n",
       "\n",
       "  time_bin  recur_day_1  recur_day_2  recur_day_3  recur_day_4  recur_day_5  \\\n",
       "0    night            1            0            0            0            0   \n",
       "1    night            1            0            0            0            0   \n",
       "2    night            1            0            0            0            0   \n",
       "3    night            1            0            0            0            0   \n",
       "4    night            1            0            0            0            0   \n",
       "\n",
       "   recur_day_6  recur_day_7  time_bin_morning  time_bin_afternoon  \\\n",
       "0            0            0                 0                   0   \n",
       "1            0            0                 0                   0   \n",
       "2            0            0                 0                   0   \n",
       "3            0            0                 0                   0   \n",
       "4            0            0                 0                   0   \n",
       "\n",
       "   time_bin_evening  time_bin_night  \n",
       "0                 0               1  \n",
       "1                 0               1  \n",
       "2                 0               1  \n",
       "3                 0               1  \n",
       "4                 0               1  "
      ]
     },
     "execution_count": 9,
     "metadata": {},
     "output_type": "execute_result"
    }
   ],
   "source": [
    "df.head()"
   ]
  },
  {
   "cell_type": "markdown",
   "metadata": {},
   "source": [
    "# 3. Baseline"
   ]
  },
  {
   "cell_type": "code",
   "execution_count": 10,
   "metadata": {},
   "outputs": [],
   "source": [
    "baseline_train = df[df.day < 61]\n",
    "baseline_val = df[df.day == 61]"
   ]
  },
  {
   "cell_type": "code",
   "execution_count": 11,
   "metadata": {},
   "outputs": [],
   "source": [
    "baseline_model = baseline_train.groupby([\"geohash6\", \"recur_day\", \"hour\", \"minute\"]).demand.median()"
   ]
  },
  {
   "cell_type": "markdown",
   "metadata": {},
   "source": [
    "The baseline basically use previous median values to forecast the future."
   ]
  },
  {
   "cell_type": "code",
   "execution_count": 12,
   "metadata": {},
   "outputs": [],
   "source": [
    "baseline_actual = np.array(baseline_val.demand.to_list())\n",
    "\n",
    "baseline_pred = np.array(baseline_model.loc[\n",
    "    [tuple(x) for x in baseline_val[[\"geohash6\", \"recur_day\", \"hour\", \"minute\"]].values]\n",
    "].reset_index().demand.to_list())"
   ]
  },
  {
   "cell_type": "code",
   "execution_count": 13,
   "metadata": {},
   "outputs": [
    {
     "data": {
      "text/plain": [
       "0.04544460790419308"
      ]
     },
     "execution_count": 13,
     "metadata": {},
     "output_type": "execute_result"
    }
   ],
   "source": [
    "calc_rmse(baseline_actual, baseline_pred)"
   ]
  },
  {
   "cell_type": "markdown",
   "metadata": {},
   "source": [
    "# 4. Model"
   ]
  },
  {
   "cell_type": "code",
   "execution_count": 7,
   "metadata": {},
   "outputs": [],
   "source": [
    "model = Model()"
   ]
  },
  {
   "cell_type": "markdown",
   "metadata": {},
   "source": [
    "I am using walk forward sliding window to generate train dataset to predict the next timestamp with look back to 14 days and no validation. The training is only for 1 epoch for all window combination."
   ]
  },
  {
   "cell_type": "code",
   "execution_count": 24,
   "metadata": {},
   "outputs": [],
   "source": [
    "dataset = create_dataset(df, epochs=1)"
   ]
  },
  {
   "cell_type": "markdown",
   "metadata": {},
   "source": [
    "The model I am using is basically seq2one (encoder-decoder) with attention where both encoder and decoder each has 1 GRU layer. "
   ]
  },
  {
   "cell_type": "code",
   "execution_count": 16,
   "metadata": {},
   "outputs": [
    {
     "name": "stdout",
     "output_type": "stream",
     "text": [
      "Iter 1 Loss 0.00021813801140524447 Time 7.244473695755005\n",
      "Iter 101 Loss 0.0001705877366475761 Time 0.011981725692749023\n",
      "Iter 201 Loss 0.00015601638006046414 Time 0.010291576385498047\n",
      "Iter 301 Loss 6.945043423911557e-05 Time 0.01093912124633789\n",
      "Iter 401 Loss 0.0003962534829042852 Time 0.01298832893371582\n",
      "Iter 501 Loss 0.00020281996694393456 Time 0.011970043182373047\n",
      "Iter 601 Loss 4.742551391245797e-05 Time 0.013673782348632812\n",
      "Iter 701 Loss 0.00014970218762755394 Time 0.011967897415161133\n",
      "Iter 801 Loss 0.0001676604151725769 Time 0.01299285888671875\n",
      "Iter 901 Loss 1.4227234714780934e-05 Time 0.011936426162719727\n",
      "Iter 1001 Loss 6.843081791885197e-05 Time 0.012966156005859375\n",
      "Iter 1101 Loss 9.726829739520326e-05 Time 0.014020919799804688\n",
      "Iter 1201 Loss 1.8497452401788905e-05 Time 0.01294255256652832\n",
      "Iter 1301 Loss 1.1772755897254683e-05 Time 0.013962984085083008\n",
      "Iter 1401 Loss 4.722217272501439e-05 Time 0.01594090461730957\n",
      "Iter 1501 Loss 6.019297143211588e-05 Time 0.013530969619750977\n",
      "Iter 1601 Loss 2.751271858869586e-05 Time 0.012967109680175781\n",
      "Iter 1701 Loss 9.583826613379642e-05 Time 0.012959718704223633\n",
      "Iter 1801 Loss 8.092407369986176e-05 Time 0.013987064361572266\n",
      "Iter 1901 Loss 3.203180312993936e-05 Time 0.014928102493286133\n",
      "Iter 2001 Loss 1.5584155335091054e-05 Time 0.01598978042602539\n",
      "Iter 2101 Loss 0.00010526163532631472 Time 3.2623112201690674\n",
      "Iter 2201 Loss 2.9854547392460518e-05 Time 0.010975360870361328\n",
      "Iter 2301 Loss 2.3298161977436393e-05 Time 0.013791799545288086\n",
      "Iter 2401 Loss 2.637285433593206e-05 Time 0.01296544075012207\n",
      "Iter 2501 Loss 1.396329935232643e-05 Time 0.018958568572998047\n",
      "Iter 2601 Loss 3.9312631997745484e-05 Time 0.012964487075805664\n",
      "Iter 2701 Loss 7.760199878248386e-06 Time 0.013957977294921875\n",
      "Iter 2801 Loss 1.5295414414140396e-05 Time 0.013962030410766602\n",
      "Iter 2901 Loss 2.0625252545869444e-06 Time 0.0139617919921875\n",
      "Iter 3001 Loss 1.200883252749918e-05 Time 0.01596236228942871\n",
      "Iter 3101 Loss 2.4083426524157403e-06 Time 0.014358282089233398\n",
      "Iter 3201 Loss 1.1990916846116306e-06 Time 0.012941598892211914\n",
      "Iter 3301 Loss 9.027625310409348e-06 Time 0.01595783233642578\n",
      "Iter 3401 Loss 4.104912022739882e-06 Time 0.013005971908569336\n",
      "Iter 3501 Loss 8.276415428554174e-06 Time 0.017001628875732422\n",
      "Iter 3601 Loss 1.5637479009456e-05 Time 0.013930320739746094\n",
      "Iter 3701 Loss 0.00014559613191522658 Time 0.012986421585083008\n",
      "Iter 3801 Loss 1.8581948097562417e-05 Time 0.01528477668762207\n",
      "Iter 3901 Loss 3.109652243438177e-05 Time 0.01396799087524414\n",
      "Iter 4001 Loss 3.0284289096016437e-05 Time 0.011939287185668945\n",
      "Iter 4101 Loss 1.7438231225241907e-05 Time 0.01593327522277832\n",
      "Iter 4201 Loss 0.0005018681986257434 Time 0.01294398307800293\n",
      "Iter 4301 Loss 4.942927625961602e-05 Time 0.013971090316772461\n",
      "Iter 4401 Loss 1.2743368642986752e-05 Time 0.01299285888671875\n",
      "Iter 4501 Loss 4.8828420403879136e-05 Time 0.012962818145751953\n",
      "Iter 4601 Loss 2.0580919226631522e-05 Time 0.015957355499267578\n",
      "Iter 4701 Loss 2.064167711068876e-05 Time 0.01495981216430664\n",
      "Iter 4801 Loss 3.393604856682941e-05 Time 0.012995243072509766\n",
      "Iter 4901 Loss 1.3817671970173251e-05 Time 0.013013601303100586\n",
      "Iter 5001 Loss 8.5265222878661e-05 Time 0.015956878662109375\n",
      "Iter 5101 Loss 5.363444142858498e-05 Time 0.012964725494384766\n",
      "Iter 5201 Loss 3.349381222506054e-05 Time 0.015938520431518555\n",
      "Iter 5301 Loss 6.155461596790701e-05 Time 0.014940261840820312\n",
      "Iter 5401 Loss 2.864827365556266e-05 Time 0.013953685760498047\n",
      "Iter 5501 Loss 3.0228997275116853e-05 Time 0.015044927597045898\n",
      "Iter 5601 Loss 5.906727892579511e-05 Time 0.014163732528686523\n",
      "Iter 5701 Loss 6.371972995111719e-05 Time 0.017956256866455078\n",
      "Iter 5801 Loss 3.0488376069115475e-05 Time 0.01598954200744629\n",
      "Iter 5901 Loss 1.3090345419186633e-05 Time 0.013929367065429688\n",
      "Iter 6001 Loss 3.2835967431310564e-05 Time 0.015210628509521484\n",
      "Iter 6101 Loss 1.1929545507882722e-05 Time 0.014949560165405273\n",
      "Iter 6201 Loss 2.4056014808593318e-05 Time 0.02003026008605957\n",
      "Iter 6301 Loss 7.784793524479028e-06 Time 2.2051360607147217\n",
      "Iter 6401 Loss 9.973967280529905e-06 Time 0.013916492462158203\n",
      "Iter 6501 Loss 1.2938377039972693e-05 Time 0.01696920394897461\n",
      "Iter 6601 Loss 6.78304786561057e-06 Time 0.016195058822631836\n",
      "Iter 6701 Loss 4.515827185969101e-06 Time 0.020810365676879883\n",
      "Iter 6801 Loss 4.289965545467567e-06 Time 0.015923500061035156\n",
      "Iter 6901 Loss 1.7677571122476365e-06 Time 0.015924930572509766\n",
      "Iter 7001 Loss 8.946151865529828e-06 Time 0.018086910247802734\n",
      "Iter 7101 Loss 2.9335394629015354e-06 Time 0.015234708786010742\n",
      "Iter 7201 Loss 3.548980657797074e-06 Time 0.01991558074951172\n",
      "Iter 7301 Loss 3.632597554314998e-06 Time 0.015938282012939453\n",
      "Iter 7401 Loss 4.491344589041546e-05 Time 0.01607537269592285\n",
      "Iter 7501 Loss 1.360359601676464e-05 Time 0.01892542839050293\n",
      "Iter 7601 Loss 8.698341844137758e-06 Time 0.01695537567138672\n",
      "Iter 7701 Loss 4.808937956113368e-05 Time 0.02363133430480957\n",
      "Iter 7801 Loss 4.561147579806857e-05 Time 0.011938095092773438\n",
      "Iter 7901 Loss 2.6580390112940222e-05 Time 0.012020349502563477\n",
      "Iter 8001 Loss 1.4804678357904777e-05 Time 0.011991500854492188\n",
      "Iter 8101 Loss 1.581362448632717e-05 Time 0.01296544075012207\n",
      "Iter 8201 Loss 4.603041361406213e-06 Time 0.01396322250366211\n",
      "Iter 8301 Loss 4.5299566409084946e-05 Time 0.014262676239013672\n",
      "Iter 8401 Loss 2.9522692784667015e-05 Time 0.011936187744140625\n",
      "Iter 8501 Loss 1.5611376511515118e-05 Time 0.013036012649536133\n",
      "Iter 8601 Loss 1.5067804270074703e-05 Time 0.012008190155029297\n",
      "Iter 8701 Loss 3.381149872438982e-05 Time 0.015985488891601562\n",
      "Iter 8801 Loss 5.344365490600467e-05 Time 0.012938261032104492\n",
      "Iter 8901 Loss 6.779121758881956e-05 Time 0.014960527420043945\n",
      "Iter 9001 Loss 4.892334982287139e-05 Time 0.013931512832641602\n",
      "Iter 9101 Loss 1.7854907127912156e-05 Time 0.011935949325561523\n",
      "Iter 9201 Loss 3.375027881702408e-05 Time 0.01592540740966797\n",
      "Iter 9301 Loss 2.7862897695740685e-05 Time 0.013930797576904297\n",
      "Iter 9401 Loss 2.1521620510611683e-05 Time 0.01593327522277832\n",
      "Iter 9501 Loss 9.509868687018752e-05 Time 0.01492762565612793\n",
      "Iter 9601 Loss 2.4639935872983187e-05 Time 0.01294255256652832\n",
      "Iter 9701 Loss 1.2148016139690299e-05 Time 0.01891016960144043\n",
      "Iter 9801 Loss 2.280083208461292e-05 Time 0.013929605484008789\n",
      "Iter 9901 Loss 4.261565482011065e-05 Time 0.020078182220458984\n",
      "Iter 10001 Loss 4.852177880820818e-05 Time 0.0170443058013916\n",
      "Iter 10101 Loss 3.379460395080969e-05 Time 0.013351917266845703\n",
      "Iter 10201 Loss 1.216846976603847e-05 Time 0.018224477767944336\n",
      "Iter 10301 Loss 2.9423732485156506e-05 Time 0.01601696014404297\n",
      "Iter 10401 Loss 1.4107192328083329e-05 Time 0.019922971725463867\n",
      "Iter 10501 Loss 1.1464680937933736e-05 Time 2.2052712440490723\n",
      "Iter 10601 Loss 6.405477506632451e-06 Time 0.012972831726074219\n",
      "Iter 10701 Loss 9.697620271253982e-07 Time 0.018926143646240234\n",
      "Iter 10801 Loss 9.933091860148124e-07 Time 0.015959978103637695\n",
      "Iter 10901 Loss 2.8782662866433384e-06 Time 0.023951053619384766\n",
      "Iter 11001 Loss 9.728503300721059e-07 Time 0.015970706939697266\n",
      "Iter 11101 Loss 2.0448183931875974e-05 Time 0.0139617919921875\n",
      "Iter 11201 Loss 1.3979080222270568e-06 Time 0.020920991897583008\n",
      "Iter 11301 Loss 1.664364754105918e-05 Time 0.01692986488342285\n",
      "Iter 11401 Loss 3.181879947078414e-05 Time 0.02593207359313965\n",
      "Iter 11501 Loss 6.336092610581545e-06 Time 0.018405914306640625\n",
      "Iter 11601 Loss 3.0518145649693906e-05 Time 0.01086282730102539\n",
      "Iter 11701 Loss 1.354855703539215e-05 Time 0.012306928634643555\n",
      "Iter 11801 Loss 1.6970900105661713e-05 Time 0.010963201522827148\n",
      "Iter 11901 Loss 2.2908283426659182e-05 Time 0.012824535369873047\n",
      "Iter 12001 Loss 1.2221878023410682e-05 Time 0.011934518814086914\n",
      "Iter 12101 Loss 7.011304114712402e-05 Time 0.011809110641479492\n",
      "Iter 12201 Loss 2.399787808826659e-05 Time 0.013962984085083008\n",
      "Iter 12301 Loss 1.7854174075182527e-05 Time 0.011967182159423828\n",
      "Iter 12401 Loss 2.212006802437827e-05 Time 0.013943672180175781\n",
      "Iter 12501 Loss 5.404464900493622e-05 Time 0.012982606887817383\n",
      "Iter 12601 Loss 0.00021903804736211896 Time 0.013049840927124023\n",
      "Iter 12701 Loss 1.0054713129648007e-05 Time 0.015275716781616211\n",
      "Iter 12801 Loss 3.059469599975273e-05 Time 0.012885808944702148\n",
      "Iter 12901 Loss 2.241687434434425e-05 Time 0.016921281814575195\n",
      "Iter 13001 Loss 7.506327528972179e-05 Time 0.014941930770874023\n",
      "Iter 13101 Loss 3.7452366086654365e-05 Time 0.018483638763427734\n",
      "Iter 13201 Loss 2.1236890461295843e-05 Time 0.01593327522277832\n",
      "Iter 13301 Loss 8.227593934861943e-05 Time 0.012543201446533203\n",
      "Iter 13401 Loss 3.45884618582204e-05 Time 0.01901078224182129\n",
      "Iter 13501 Loss 4.760187948704697e-05 Time 0.015682220458984375\n",
      "Iter 13601 Loss 7.606419785588514e-06 Time 0.020943403244018555\n",
      "Iter 13701 Loss 5.130924182594754e-05 Time 0.019916057586669922\n",
      "Iter 13801 Loss 6.724213562847581e-06 Time 0.013469696044921875\n",
      "Iter 13901 Loss 2.046745430561714e-05 Time 0.019946813583374023\n",
      "Iter 14001 Loss 2.0303639757912606e-05 Time 0.01695394515991211\n",
      "Iter 14101 Loss 1.7104277503676713e-05 Time 0.02298283576965332\n",
      "Iter 14201 Loss 1.6729351045796648e-05 Time 0.019984722137451172\n",
      "Iter 14301 Loss 1.6935580788413063e-05 Time 0.014935731887817383\n",
      "Iter 14401 Loss 4.6107643356663175e-06 Time 0.021440744400024414\n",
      "Iter 14501 Loss 4.842509952140972e-06 Time 0.018521785736083984\n",
      "Iter 14601 Loss 5.749555384682026e-06 Time 0.02792644500732422\n",
      "Iter 14701 Loss 4.1781095205806196e-06 Time 0.02490854263305664\n",
      "Iter 14801 Loss 2.6421894290251657e-06 Time 0.013939380645751953\n",
      "Iter 14901 Loss 2.663676696101902e-06 Time 0.023819684982299805\n",
      "Iter 15001 Loss 6.119350018707337e-06 Time 0.019577980041503906\n",
      "Iter 15101 Loss 3.2627704058540985e-06 Time 0.029907703399658203\n",
      "Iter 15201 Loss 4.568121767078992e-06 Time 0.019357919692993164\n",
      "Iter 15301 Loss 2.853690784831997e-05 Time 0.01572275161743164\n",
      "Iter 15401 Loss 1.9101053112535737e-06 Time 0.026958703994750977\n",
      "Iter 15501 Loss 2.1619085600832477e-05 Time 0.011968374252319336\n",
      "Iter 15601 Loss 1.618689566385001e-05 Time 0.012604475021362305\n",
      "Iter 15701 Loss 2.0124611182836816e-05 Time 0.011974096298217773\n",
      "Iter 15801 Loss 4.276451363693923e-05 Time 0.010970830917358398\n",
      "Iter 15901 Loss 3.651408769655973e-05 Time 0.013962268829345703\n",
      "Iter 16001 Loss 1.2680311556323431e-05 Time 0.01296544075012207\n",
      "Iter 16101 Loss 1.743352913763374e-05 Time 0.014930963516235352\n",
      "Iter 16201 Loss 1.5541139873676002e-05 Time 0.012953042984008789\n",
      "Iter 16301 Loss 7.288422784768045e-05 Time 0.012539148330688477\n",
      "Iter 16401 Loss 3.246254345867783e-05 Time 0.015964984893798828\n",
      "Iter 16501 Loss 1.7211023077834398e-05 Time 0.013063430786132812\n",
      "Iter 16601 Loss 4.0853527025319636e-05 Time 0.018925905227661133\n",
      "Iter 16701 Loss 6.536723230965436e-05 Time 0.014772415161132812\n",
      "Iter 16801 Loss 6.88917061779648e-05 Time 0.013941526412963867\n",
      "Iter 16901 Loss 1.7979025869863108e-05 Time 0.017951488494873047\n",
      "Iter 17001 Loss 5.438164407678414e-06 Time 0.011985063552856445\n",
      "Iter 17101 Loss 2.6501282263780013e-05 Time 0.022937536239624023\n",
      "Iter 17201 Loss 2.4370348910451867e-05 Time 0.0164945125579834\n",
      "Iter 17301 Loss 2.8404421755112708e-05 Time 0.021231889724731445\n",
      "Iter 17401 Loss 1.8563874618848786e-05 Time 0.021941184997558594\n",
      "Iter 17501 Loss 2.1380525140557438e-05 Time 0.014800310134887695\n",
      "Iter 17601 Loss 1.5338788216467947e-05 Time 0.025942087173461914\n",
      "Iter 17701 Loss 3.3732074371073395e-05 Time 0.01894831657409668\n",
      "Iter 17801 Loss 1.7569262126926333e-05 Time 0.02774333953857422\n",
      "Iter 17901 Loss 5.2563455028575845e-06 Time 0.023839473724365234\n",
      "Iter 18001 Loss 4.939291557093384e-06 Time 0.014963150024414062\n",
      "Iter 18101 Loss 7.500538231397513e-06 Time 0.023825407028198242\n",
      "Iter 18201 Loss 1.1080016520281788e-05 Time 0.020920753479003906\n",
      "Iter 18301 Loss 1.3950026186648756e-05 Time 0.03187966346740723\n",
      "Iter 18401 Loss 3.676958385767648e-06 Time 0.028796911239624023\n",
      "Iter 18501 Loss 3.52287770510884e-06 Time 0.01759481430053711\n",
      "Iter 18601 Loss 3.862523954012431e-06 Time 0.02991509437561035\n",
      "Iter 18701 Loss 2.5907938834279776e-06 Time 0.021941423416137695\n",
      "Iter 18801 Loss 7.3296782829856966e-06 Time 0.034090280532836914\n",
      "Iter 18901 Loss 2.2027800241630757e-06 Time 2.289799928665161\n",
      "Iter 19001 Loss 1.4969897392802523e-06 Time 0.01678156852722168\n",
      "Iter 19101 Loss 4.236403401591815e-05 Time 0.029721736907958984\n",
      "Iter 19201 Loss 3.571153229131596e-06 Time 0.023821592330932617\n",
      "Iter 19301 Loss 6.645358553214464e-06 Time 0.041950225830078125\n",
      "Iter 19401 Loss 3.6656969314208254e-05 Time 0.012940645217895508\n",
      "Iter 19501 Loss 6.783031858503819e-05 Time 0.010938405990600586\n",
      "Iter 19601 Loss 1.0301110705768224e-05 Time 0.012943029403686523\n",
      "Iter 19701 Loss 2.946689164673444e-05 Time 0.013975143432617188\n",
      "Iter 19801 Loss 1.5958421499817632e-05 Time 0.014940977096557617\n",
      "Iter 19901 Loss 2.654435229487717e-05 Time 0.013983488082885742\n",
      "Iter 20001 Loss 1.2821035852539353e-05 Time 0.012940406799316406\n",
      "Iter 20101 Loss 3.4205077099613845e-05 Time 0.014937400817871094\n",
      "Iter 20201 Loss 1.0905592716881074e-05 Time 0.012654781341552734\n",
      "Iter 20301 Loss 2.9244807592476718e-05 Time 0.018969297409057617\n",
      "Iter 20401 Loss 7.836797522031702e-06 Time 0.01492762565612793\n",
      "Iter 20501 Loss 6.532316183438525e-05 Time 0.013928890228271484\n",
      "Iter 20601 Loss 2.233043960586656e-05 Time 0.018952369689941406\n",
      "Iter 20701 Loss 2.152980050595943e-05 Time 0.014924287796020508\n",
      "Iter 20801 Loss 3.375634696567431e-05 Time 0.021942853927612305\n",
      "Iter 20901 Loss 1.7525555449537933e-05 Time 0.0168912410736084\n",
      "Iter 21001 Loss 1.0423556886962615e-05 Time 0.01795172691345215\n",
      "Iter 21101 Loss 2.4968401703517884e-05 Time 0.020926713943481445\n",
      "Iter 21201 Loss 1.3468932593241334e-05 Time 0.014960050582885742\n",
      "Iter 21301 Loss 2.89693743980024e-05 Time 0.02893233299255371\n",
      "Iter 21401 Loss 3.9633887354284525e-05 Time 0.019012928009033203\n",
      "Iter 21501 Loss 1.2557507943711244e-05 Time 0.02890300750732422\n",
      "Iter 21601 Loss 1.3780783774564043e-05 Time 0.02391219139099121\n",
      "Iter 21701 Loss 1.3646145816892385e-05 Time 0.015980958938598633\n",
      "Iter 21801 Loss 9.025577128340956e-06 Time 0.0318906307220459\n",
      "Iter 21901 Loss 7.304538030439289e-06 Time 0.02062845230102539\n",
      "Iter 22001 Loss 2.9058226573397405e-05 Time 0.034296274185180664\n",
      "Iter 22101 Loss 1.105612227547681e-06 Time 0.027958393096923828\n",
      "Iter 22201 Loss 6.840181413281243e-06 Time 0.015959501266479492\n",
      "Iter 22301 Loss 4.386542059364729e-06 Time 0.029926061630249023\n",
      "Iter 22401 Loss 1.4652478057541884e-06 Time 0.026574134826660156\n",
      "Iter 22501 Loss 4.027309614684782e-07 Time 0.03889632225036621\n",
      "Iter 22601 Loss 4.8529382183915e-06 Time 0.03088998794555664\n",
      "Iter 22701 Loss 2.6190951984972344e-07 Time 0.020923614501953125\n",
      "Iter 22801 Loss 4.279272616258822e-06 Time 0.03506064414978027\n",
      "Iter 22901 Loss 8.994311428978108e-06 Time 0.02390432357788086\n",
      "Iter 23001 Loss 1.563003024784848e-05 Time 0.04288911819458008\n",
      "Iter 23101 Loss 2.7878604669240303e-05 Time 2.4305014610290527\n",
      "Iter 23201 Loss 1.9385226551094092e-05 Time 0.010967493057250977\n",
      "Iter 23301 Loss 3.512298280838877e-05 Time 0.012526512145996094\n",
      "Iter 23401 Loss 3.430078868404962e-05 Time 0.011934757232666016\n",
      "Iter 23501 Loss 1.7358281183987856e-05 Time 0.01493692398071289\n",
      "Iter 23601 Loss 3.44858126481995e-05 Time 0.014013051986694336\n",
      "Iter 23701 Loss 1.747822534525767e-05 Time 0.012965202331542969\n",
      "Iter 23801 Loss 1.6456111552543007e-05 Time 0.014971494674682617\n",
      "Iter 23901 Loss 3.948235098505393e-05 Time 0.0169219970703125\n",
      "Iter 24001 Loss 6.696941272821277e-05 Time 0.01894211769104004\n",
      "Iter 24101 Loss 1.6870910258148797e-05 Time 0.01494598388671875\n",
      "Iter 24201 Loss 6.439488788601011e-05 Time 0.013863801956176758\n",
      "Iter 24301 Loss 3.334078792249784e-05 Time 0.018925905227661133\n",
      "Iter 24401 Loss 1.0381708307249937e-05 Time 0.012933731079101562\n",
      "Iter 24501 Loss 3.0480328859994188e-05 Time 0.022955656051635742\n",
      "Iter 24601 Loss 8.780499047134072e-05 Time 0.016271114349365234\n",
      "Iter 24701 Loss 7.315689435927197e-05 Time 0.014938831329345703\n",
      "Iter 24801 Loss 4.7765919589437544e-05 Time 0.022915124893188477\n",
      "Iter 24901 Loss 1.1523841749294661e-05 Time 0.0139617919921875\n",
      "Iter 25001 Loss 5.1452425395837054e-05 Time 0.027903318405151367\n",
      "Iter 25101 Loss 2.7364636480342597e-05 Time 0.02100062370300293\n"
     ]
    },
    {
     "ename": "KeyboardInterrupt",
     "evalue": "",
     "output_type": "error",
     "traceback": [
      "\u001b[1;31m---------------------------------------------------------------------------\u001b[0m",
      "\u001b[1;31mKeyboardInterrupt\u001b[0m                         Traceback (most recent call last)",
      "\u001b[1;32m<ipython-input-16-ae072c7ff516>\u001b[0m in \u001b[0;36m<module>\u001b[1;34m\u001b[0m\n\u001b[1;32m----> 1\u001b[1;33m \u001b[0mmodel\u001b[0m\u001b[1;33m.\u001b[0m\u001b[0mtrain\u001b[0m\u001b[1;33m(\u001b[0m\u001b[0mdataset\u001b[0m\u001b[1;33m)\u001b[0m\u001b[1;33m\u001b[0m\u001b[1;33m\u001b[0m\u001b[0m\n\u001b[0m",
      "\u001b[1;32m~\\Desktop\\Projects\\aiforsea\\src\\models\\model.py\u001b[0m in \u001b[0;36mtrain\u001b[1;34m(self, dataset)\u001b[0m\n\u001b[0;32m    101\u001b[0m         \u001b[1;32mfor\u001b[0m \u001b[1;33m(\u001b[0m\u001b[0miteration\u001b[0m\u001b[1;33m,\u001b[0m \u001b[1;33m(\u001b[0m\u001b[0minputs\u001b[0m\u001b[1;33m,\u001b[0m \u001b[0moutputs\u001b[0m\u001b[1;33m)\u001b[0m\u001b[1;33m)\u001b[0m \u001b[1;32min\u001b[0m \u001b[0menumerate\u001b[0m\u001b[1;33m(\u001b[0m\u001b[0mdataset\u001b[0m\u001b[1;33m)\u001b[0m\u001b[1;33m:\u001b[0m\u001b[1;33m\u001b[0m\u001b[1;33m\u001b[0m\u001b[0m\n\u001b[0;32m    102\u001b[0m             \u001b[0mstart_iter\u001b[0m \u001b[1;33m=\u001b[0m \u001b[0mtime\u001b[0m\u001b[1;33m.\u001b[0m\u001b[0mtime\u001b[0m\u001b[1;33m(\u001b[0m\u001b[1;33m)\u001b[0m\u001b[1;33m\u001b[0m\u001b[1;33m\u001b[0m\u001b[0m\n\u001b[1;32m--> 103\u001b[1;33m             \u001b[0mbatch_loss\u001b[0m \u001b[1;33m=\u001b[0m \u001b[0mself\u001b[0m\u001b[1;33m.\u001b[0m\u001b[0mtrain_step\u001b[0m\u001b[1;33m(\u001b[0m\u001b[0minputs\u001b[0m\u001b[1;33m,\u001b[0m \u001b[0moutputs\u001b[0m\u001b[1;33m)\u001b[0m\u001b[1;33m\u001b[0m\u001b[1;33m\u001b[0m\u001b[0m\n\u001b[0m\u001b[0;32m    104\u001b[0m             \u001b[0mtotal_loss\u001b[0m \u001b[1;33m+=\u001b[0m \u001b[0mbatch_loss\u001b[0m\u001b[1;33m\u001b[0m\u001b[1;33m\u001b[0m\u001b[0m\n\u001b[0;32m    105\u001b[0m \u001b[1;33m\u001b[0m\u001b[0m\n",
      "\u001b[1;32m~\\Desktop\\Projects\\aiforsea\\src\\data\\dataset.py\u001b[0m in \u001b[0;36mcreate_dataset\u001b[1;34m(df, epochs, batch_size, look_back)\u001b[0m\n\u001b[0;32m     33\u001b[0m                         \u001b[0moutputs\u001b[0m \u001b[1;33m=\u001b[0m \u001b[1;33m[\u001b[0m\u001b[1;33m]\u001b[0m\u001b[1;33m\u001b[0m\u001b[1;33m\u001b[0m\u001b[0m\n\u001b[0;32m     34\u001b[0m                         \u001b[1;32mfor\u001b[0m \u001b[0mgeo\u001b[0m \u001b[1;32min\u001b[0m \u001b[0mbatch_geos\u001b[0m\u001b[1;33m:\u001b[0m\u001b[1;33m\u001b[0m\u001b[1;33m\u001b[0m\u001b[0m\n\u001b[1;32m---> 35\u001b[1;33m                             \u001b[0minputs\u001b[0m\u001b[1;33m.\u001b[0m\u001b[0mappend\u001b[0m\u001b[1;33m(\u001b[0m\u001b[0mnp\u001b[0m\u001b[1;33m.\u001b[0m\u001b[0marray\u001b[0m\u001b[1;33m(\u001b[0m\u001b[0minputs_df\u001b[0m\u001b[1;33m[\u001b[0m\u001b[0minputs_df\u001b[0m\u001b[1;33m.\u001b[0m\u001b[0mgeohash6\u001b[0m \u001b[1;33m==\u001b[0m \u001b[0mgeo\u001b[0m\u001b[1;33m]\u001b[0m\u001b[1;33m[\u001b[0m\u001b[0mfeature_columns\u001b[0m\u001b[1;33m]\u001b[0m\u001b[1;33m)\u001b[0m\u001b[1;33m)\u001b[0m\u001b[1;33m\u001b[0m\u001b[1;33m\u001b[0m\u001b[0m\n\u001b[0m\u001b[0;32m     36\u001b[0m                             \u001b[0moutputs\u001b[0m\u001b[1;33m.\u001b[0m\u001b[0mappend\u001b[0m\u001b[1;33m(\u001b[0m\u001b[0mnp\u001b[0m\u001b[1;33m.\u001b[0m\u001b[0marray\u001b[0m\u001b[1;33m(\u001b[0m\u001b[0moutputs_df\u001b[0m\u001b[1;33m[\u001b[0m\u001b[0moutputs_df\u001b[0m\u001b[1;33m.\u001b[0m\u001b[0mgeohash6\u001b[0m \u001b[1;33m==\u001b[0m \u001b[0mgeo\u001b[0m\u001b[1;33m]\u001b[0m\u001b[1;33m.\u001b[0m\u001b[0mdemand\u001b[0m\u001b[1;33m)\u001b[0m\u001b[1;33m)\u001b[0m\u001b[1;33m\u001b[0m\u001b[1;33m\u001b[0m\u001b[0m\n\u001b[0;32m     37\u001b[0m \u001b[1;33m\u001b[0m\u001b[0m\n",
      "\u001b[1;32mc:\\users\\holya\\miniconda3\\envs\\deeplearning\\lib\\site-packages\\pandas\\core\\ops.py\u001b[0m in \u001b[0;36mwrapper\u001b[1;34m(self, other, axis)\u001b[0m\n\u001b[0;32m   1764\u001b[0m \u001b[1;33m\u001b[0m\u001b[0m\n\u001b[0;32m   1765\u001b[0m             \u001b[1;32mwith\u001b[0m \u001b[0mnp\u001b[0m\u001b[1;33m.\u001b[0m\u001b[0merrstate\u001b[0m\u001b[1;33m(\u001b[0m\u001b[0mall\u001b[0m\u001b[1;33m=\u001b[0m\u001b[1;34m'ignore'\u001b[0m\u001b[1;33m)\u001b[0m\u001b[1;33m:\u001b[0m\u001b[1;33m\u001b[0m\u001b[1;33m\u001b[0m\u001b[0m\n\u001b[1;32m-> 1766\u001b[1;33m                 \u001b[0mres\u001b[0m \u001b[1;33m=\u001b[0m \u001b[0mna_op\u001b[0m\u001b[1;33m(\u001b[0m\u001b[0mvalues\u001b[0m\u001b[1;33m,\u001b[0m \u001b[0mother\u001b[0m\u001b[1;33m)\u001b[0m\u001b[1;33m\u001b[0m\u001b[1;33m\u001b[0m\u001b[0m\n\u001b[0m\u001b[0;32m   1767\u001b[0m             \u001b[1;32mif\u001b[0m \u001b[0mis_scalar\u001b[0m\u001b[1;33m(\u001b[0m\u001b[0mres\u001b[0m\u001b[1;33m)\u001b[0m\u001b[1;33m:\u001b[0m\u001b[1;33m\u001b[0m\u001b[1;33m\u001b[0m\u001b[0m\n\u001b[0;32m   1768\u001b[0m                 raise TypeError('Could not compare {typ} type with Series'\n",
      "\u001b[1;32mc:\\users\\holya\\miniconda3\\envs\\deeplearning\\lib\\site-packages\\pandas\\core\\ops.py\u001b[0m in \u001b[0;36mna_op\u001b[1;34m(x, y)\u001b[0m\n\u001b[0;32m   1623\u001b[0m \u001b[1;33m\u001b[0m\u001b[0m\n\u001b[0;32m   1624\u001b[0m         \u001b[1;32mif\u001b[0m \u001b[0mis_object_dtype\u001b[0m\u001b[1;33m(\u001b[0m\u001b[0mx\u001b[0m\u001b[1;33m.\u001b[0m\u001b[0mdtype\u001b[0m\u001b[1;33m)\u001b[0m\u001b[1;33m:\u001b[0m\u001b[1;33m\u001b[0m\u001b[1;33m\u001b[0m\u001b[0m\n\u001b[1;32m-> 1625\u001b[1;33m             \u001b[0mresult\u001b[0m \u001b[1;33m=\u001b[0m \u001b[0m_comp_method_OBJECT_ARRAY\u001b[0m\u001b[1;33m(\u001b[0m\u001b[0mop\u001b[0m\u001b[1;33m,\u001b[0m \u001b[0mx\u001b[0m\u001b[1;33m,\u001b[0m \u001b[0my\u001b[0m\u001b[1;33m)\u001b[0m\u001b[1;33m\u001b[0m\u001b[1;33m\u001b[0m\u001b[0m\n\u001b[0m\u001b[0;32m   1626\u001b[0m \u001b[1;33m\u001b[0m\u001b[0m\n\u001b[0;32m   1627\u001b[0m         \u001b[1;32melif\u001b[0m \u001b[0mis_datetimelike_v_numeric\u001b[0m\u001b[1;33m(\u001b[0m\u001b[0mx\u001b[0m\u001b[1;33m,\u001b[0m \u001b[0my\u001b[0m\u001b[1;33m)\u001b[0m\u001b[1;33m:\u001b[0m\u001b[1;33m\u001b[0m\u001b[1;33m\u001b[0m\u001b[0m\n",
      "\u001b[1;31mKeyboardInterrupt\u001b[0m: "
     ]
    }
   ],
   "source": [
    "model.train(dataset)"
   ]
  },
  {
   "cell_type": "markdown",
   "metadata": {},
   "source": [
    "Let's see how the model fit the training set."
   ]
  },
  {
   "cell_type": "code",
   "execution_count": 8,
   "metadata": {},
   "outputs": [
    {
     "data": {
      "text/plain": [
       "<tensorflow.python.training.tracking.util.CheckpointLoadStatus at 0x29eb846a048>"
      ]
     },
     "execution_count": 8,
     "metadata": {},
     "output_type": "execute_result"
    }
   ],
   "source": [
    "model.checkpoint.restore(tf.train.latest_checkpoint(model.checkpoint_dir))"
   ]
  },
  {
   "cell_type": "code",
   "execution_count": 50,
   "metadata": {},
   "outputs": [],
   "source": [
    "fit_df = df[df.geohash6 == \"qp09sw\"]\n",
    "feature_columns = fit_df.columns.drop([\"geohash6\", \"recur_day\", \"time_bin\"])\n",
    "fit_data = np.expand_dims(np.array(fit_df[feature_columns]), axis=0)"
   ]
  },
  {
   "cell_type": "code",
   "execution_count": 51,
   "metadata": {},
   "outputs": [],
   "source": [
    "actual = fit_data[0, :, 5]"
   ]
  },
  {
   "cell_type": "code",
   "execution_count": 52,
   "metadata": {},
   "outputs": [],
   "source": [
    "pred = []\n",
    "for t in range(1, 500):\n",
    "    out, _ = model(np.expand_dims(fit_data[0, :t], axis=0))\n",
    "    pred.append(np.squeeze(out))"
   ]
  },
  {
   "cell_type": "code",
   "execution_count": 53,
   "metadata": {},
   "outputs": [
    {
     "data": {
      "text/plain": [
       "[<matplotlib.lines.Line2D at 0x29ecb59e320>]"
      ]
     },
     "execution_count": 53,
     "metadata": {},
     "output_type": "execute_result"
    },
    {
     "data": {
      "image/png": "[encoded data removed]",
      "text/plain": [
       "<Figure size 432x288 with 1 Axes>"
      ]
     },
     "metadata": {
      "needs_background": "light"
     },
     "output_type": "display_data"
    }
   ],
   "source": [
    "fig, ax = plt.subplots()\n",
    "\n",
    "ax.plot(range(0, 400), fit_data[0,:400,5])\n",
    "ax.plot(range(0, 400), pred[:400])"
   ]
  }
 ],
 "metadata": {
  "kernelspec": {
   "display_name": "Python 3",
   "language": "python",
   "name": "python3"
  },
  "language_info": {
   "codemirror_mode": {
    "name": "ipython",
    "version": 3
   },
   "file_extension": ".py",
   "mimetype": "text/x-python",
   "name": "python",
   "nbconvert_exporter": "python",
   "pygments_lexer": "ipython3",
   "version": "3.6.8"
  }
 },
 "nbformat": 4,
 "nbformat_minor": 2
}
